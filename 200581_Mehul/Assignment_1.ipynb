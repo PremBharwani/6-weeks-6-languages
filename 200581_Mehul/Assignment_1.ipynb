{
  "nbformat": 4,
  "nbformat_minor": 0,
  "metadata": {
    "colab": {
      "name": "Copy of 6W6L_Assignment_1.ipynb",
      "provenance": [],
      "collapsed_sections": []
    },
    "kernelspec": {
      "name": "python3",
      "display_name": "Python 3"
    },
    "language_info": {
      "name": "python"
    }
  },
  "cells": [
    {
      "cell_type": "markdown",
      "source": [
        "## **IITK Member Information**\n",
        "\n",
        "The idea of this task is to build a information portal of all the members of IITK (mainly students and staff), which also helps in keeping a record of their ages and other stuff for the use of IITK authoririties. \n",
        "\n",
        "The code should be written with the use of OOPs. More details regarding python OOPs can be found [here](https://www.geeksforgeeks.org/python-oops-concepts/)"
      ],
      "metadata": {
        "id": "PVwCfPhf2VsG"
      }
    },
    {
      "cell_type": "markdown",
      "source": [
        "### **Member** ###\n",
        "\n",
        "One of the major features of OOPs being used here is **inheritance**. We have a parent class named Member which contains the data members common to all kind of members in IITK. You should make a parametrized **contructor** which creates a fresh entry by filling in the values of the respective variables and complete all the function as specified in this class."
      ],
      "metadata": {
        "id": "DqawrbyDgWcr"
      }
    },
    {
      "cell_type": "code",
      "source": [
        "from datetime import date"
      ],
      "metadata": {
        "id": "8ie5FA1xD5Hm"
      },
      "execution_count": null,
      "outputs": []
    },
    {
      "cell_type": "code",
      "execution_count": null,
      "metadata": {
        "id": "36ujit6d2UoG"
      },
      "outputs": [],
      "source": [
        "class Member:\n",
        "  # string name\n",
        "  # string username\n",
        "  # int id ## a unique id for every member\n",
        "  # string phone_number\n",
        "  # dob (you should decide how to implement dob)\n",
        "  # for dob use date from datetime lib\n",
        "  \n",
        "\n",
        "  def __init__(self,id, name, username, phone_number, dob):\n",
        "    ## This is the constructor being talked about in the description\n",
        "    self.id=id\n",
        "    self.name=name\n",
        "    self.username=username\n",
        "    self.phone_number=phone_number\n",
        "    self.dob=dob\n",
        "\n",
        "  def update_info_by_id(self,id, name, username, phone_number, dob):\n",
        "    ## This function should update the information of the person spcified by the received id\n",
        "    if(self.id==id):\n",
        "      self.name=name\n",
        "      self.username=username\n",
        "      self.phone_number=phone_number\n",
        "      self.dob=dob\n",
        "\n",
        "  def display_info_by_id (self,id):\n",
        "    ## display member info who has the same id as received\n",
        "    if(self.id==id):\n",
        "      print(\"Name: \",self.name)\n",
        "      print(\"Username: \",self.username)\n",
        "      \n",
        "  def contact_details(self):\n",
        "    ## diplay contact details of the member\n",
        "    print(\"Phone Number of \",self.name,\":\",self.phone_number)\n",
        "\n",
        "  def age(self):\n",
        "    today=date.today()\n",
        "    # print(today.month)\n",
        "    age=today.year-self.dob.year\n",
        "    \n",
        "    if (today.month<self.dob.month):\n",
        "      age-=1\n",
        "    elif(today.month==self.dob.month):\n",
        "      if(today.date<self.dob.date):\n",
        "        age-=1\n",
        "    return age\n",
        "  def display_age(self):\n",
        "    ## displays the age of the member\n",
        "    \n",
        "    print(\"Age of\",self.name,\":\",self.age())\n"
      ]
    },
    {
      "cell_type": "code",
      "source": [
        "sd1 = Member(200581, 'Mehul Goyal', 'mehulg20', 88549, date(2002, 11, 28))\n",
        "sd2 = Member(200269, 'Prem', 'premr20', 99999, date(2002, 2, 1))\n",
        "\n",
        "# sd1.display_age()\n",
        "# sd2.display_age()\n",
        "\n",
        "list=[]\n",
        "list.append(sd1)\n",
        "list.append(sd2)\n",
        "\n",
        "for obj in list:\n",
        "  obj.display_info_by_id(200269)\n",
        "  obj.contact_details()\n",
        "  obj.display_age()\n",
        "  print(\" \")\n",
        "\n",
        "for obj in list:\n",
        "  obj.display_info_by_id(200581)\n",
        "  print(\" \")\n",
        "\n",
        "for obj in list:\n",
        "  obj.update_info_by_id(200581,'Harsh Sharma','harshs20', 11111, date(2002, 10, 15))\n",
        "\n",
        "\n",
        "for obj in list:\n",
        "  obj.contact_details()\n",
        "  obj.display_age()\n",
        "  print(\" \")"
      ],
      "metadata": {
        "colab": {
          "base_uri": "https://localhost:8080/"
        },
        "id": "jJpoHOKFWpuq",
        "outputId": "62f63014-e663-4d98-b56f-9baea477238a"
      },
      "execution_count": 48,
      "outputs": [
        {
          "output_type": "stream",
          "name": "stdout",
          "text": [
            "Phone Number of  Mehul Goyal : 88549\n",
            "Age of Mehul Goyal : 19\n",
            " \n",
            "Name:  Prem\n",
            "Username:  premr20\n",
            "Phone Number of  Prem : 99999\n",
            "Age of Prem : 20\n",
            " \n",
            "Name:  Mehul Goyal\n",
            "Username:  mehulg20\n",
            " \n",
            " \n",
            "Phone Number of  Harsh Sharma : 11111\n",
            "Age of Harsh Sharma : 19\n",
            " \n",
            "Phone Number of  Prem : 99999\n",
            "Age of Prem : 20\n",
            " \n"
          ]
        }
      ]
    },
    {
      "cell_type": "markdown",
      "source": [
        "Your program should be divided into two subclasses, professor and student, which are the child class of Member class (read about inheritance to understand the concept of parent and child classes in inheritance). \n",
        "\n",
        "The compulsary attendace rate is min 75% for stundets and 90% for professors. using this information you have to complete the *attendance_is_ok* function given below and also the other functions based on their description.\n",
        "\n",
        "You should also create a constrcutor for these classes also to initialize the data values of the objects of these classes. The outline of the constructor won't be given, you have to implement it on your own."
      ],
      "metadata": {
        "id": "n8Oj3aQI7Oah"
      }
    },
    {
      "cell_type": "code",
      "source": [
        "class Professor(Member):\n",
        "  # string field\n",
        "  # int attendance\n",
        "  def __init__(self,id, name, username, phone_number, dob, field, atd):\n",
        "    self.field=field\n",
        "    self.atd=atd\n",
        "    Member.__init__(self, id, name, username, phone_number, dob)\n",
        "  \n",
        "  def update_info_by_id(self,id, name, username, phone_number, dob, field, atd):\n",
        "    ## This function should update the information of the person spcified by the received id\n",
        "    if(self.id==id):\n",
        "      self.name=name\n",
        "      self.username=username\n",
        "      self.phone_number=phone_number\n",
        "      self.dob=dob\n",
        "      self.field=field\n",
        "      self.atd=atd\n",
        "  \n",
        "  def display_info_by_id (self,id):\n",
        "    ## display member info who has the same id as received\n",
        "    if(self.id==id):\n",
        "      print(\"Name: \",self.name)\n",
        "      print(\"Username: \",self.username)\n",
        "      print(\"Attendance: \",self.atd)\n",
        "      print(\"Field :\",self.field)\n",
        "\n",
        "  def travel_ticket_discount(self,ticket_price):\n",
        "    ##age uptil 12 -> No money\n",
        "    disc=0\n",
        "    if self.age()<=12:\n",
        "      disc=100\n",
        "    ##between 13 to 25 -> half fare\n",
        "    elif self.age()<=25:\n",
        "      disc=50\n",
        "    ##above 26 -> Full money\n",
        "    return disc\n",
        "  def attendance_is_ok(self):\n",
        "    ## function to check if the member has complied with the attendance criteria\n",
        "    \n",
        "    if self.atd>=328.5:\n",
        "      print(\"Attnedance is good\")\n",
        "    else:\n",
        "      print(\"Attnedance is short\")\n",
        "    "
      ],
      "metadata": {
        "id": "YQRuFEni8p3z"
      },
      "execution_count": 75,
      "outputs": []
    },
    {
      "cell_type": "code",
      "source": [
        "class Student(Member):\n",
        "  # string branch\n",
        "  # int attendance\n",
        "  def __init__(self,id, name, username, phone_number, dob, field, atd):\n",
        "    self.field=field\n",
        "    self.atd=atd\n",
        "    Member.__init__(self, id, name, username, phone_number, dob)\n",
        "\n",
        "  def update_info_by_id(self,id, name, username, phone_number, dob, field, atd):\n",
        "    ## This function should update the information of the person spcified by the received id\n",
        "    if(self.id==id):\n",
        "      self.name=name\n",
        "      self.username=username\n",
        "      self.phone_number=phone_number\n",
        "      self.dob=dob\n",
        "      self.field=field\n",
        "      self.atd=atd\n",
        "  \n",
        "  def display_info_by_id (self,id):\n",
        "    ## display member info who has the same id as received\n",
        "    if(self.id==id):\n",
        "      print(\"Name: \",self.name)\n",
        "      print(\"Username: \",self.username)\n",
        "      print(\"Attendance: \",self.atd)\n",
        "      print(\"Field :\",self.field)\n",
        "\n",
        "  def travel_ticket_discount(self,ticket_price):\n",
        "    ##age uptil 12 -> No money\n",
        "    if self.age()<=12:\n",
        "      ticket_price=0\n",
        "    ##between 13 to 25 -> half fare\n",
        "    elif self.age()<=25:\n",
        "      ticket_price/=2\n",
        "    ##above 26 -> Full money\n",
        "    return ticket_price\n",
        "\n",
        "  def attendance_is_ok(self):\n",
        "    ## function to check if the member has complied with the attendance criteria\n",
        "    \n",
        "    if self.atd>=273.75:\n",
        "      print(\"Attnedance is good\")\n",
        "    else:\n",
        "      print(\"Attnedance is short\")"
      ],
      "metadata": {
        "id": "zKHZFHJ1nmqr"
      },
      "execution_count": 76,
      "outputs": []
    },
    {
      "cell_type": "code",
      "source": [
        "p1=Professor(200581, 'Mehul Goyal', 'mehulg20', 88549, date(2002, 11, 28),' Elec', 300)\n",
        "\n",
        "p1.display_info_by_id(200581)\n",
        "p1.attendance_is_ok()\n",
        "print(p1.travel_ticket_discount(275))\n",
        "print(\" \")\n",
        "\n",
        "s1=Student(200269, 'Prem', 'premr20', 99999, date(2002, 2, 1), 'Civil', 300)\n",
        "\n",
        "s1.display_info_by_id(200269)\n",
        "s1.attendance_is_ok()\n",
        "print(s1.travel_ticket_discount(275))"
      ],
      "metadata": {
        "colab": {
          "base_uri": "https://localhost:8080/"
        },
        "id": "TBdWlSHTFydg",
        "outputId": "3c749dd5-c1dc-48d9-9574-887d4bfb416e"
      },
      "execution_count": 80,
      "outputs": [
        {
          "output_type": "stream",
          "name": "stdout",
          "text": [
            "Name:  Mehul Goyal\n",
            "Username:  mehulg20\n",
            "Attendance:  300\n",
            "Field :  Elec\n",
            "Attnedance is short\n",
            "50\n",
            " \n",
            "Name:  Prem\n",
            "Username:  premr20\n",
            "Attendance:  300\n",
            "Field : Civil\n",
            "Attnedance is good\n",
            "137.5\n"
          ]
        }
      ]
    },
    {
      "cell_type": "markdown",
      "source": [
        "You have to implement a main class and call these functions from it via objects to achieve the desired tasks. You can also change the provided outline to some extend, provided that there is no loss of information."
      ],
      "metadata": {
        "id": "7Lb4cfjan6FI"
      }
    }
  ]
}