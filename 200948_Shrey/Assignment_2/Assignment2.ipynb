{
 "cells": [
  {
   "cell_type": "markdown",
   "metadata": {},
   "source": [
    "***\n",
    "$\\mathbf{\\text{Assignment}}$<br>\n",
    "***\n",
    "\n",
    "This assignment is based on the concept of Type Stable Functions in Julia. Your task is to create two different implementations of the function $\\mathbf{\\text{Solve(V1,V2)}}$ which takes as input two Vectors of the same size and computes the following sum $\\sum \\limits _{i=1} ^{N} f(V1[i], V2[i])$.<br> $f(x,y)$ is defined as $4x^4 + 9x^2 + 10x + 1$ if x>y and $y^4 + 3y^2 + 9y + 2$ otherwise. <br>\n",
    "For the first implementation create a function $Solve1(V1,V2)$ and do all the computations in that function itself. For the second implementation create a function $Solve2(V1,V2)$ which uses $\\mathbf{\\text{type stable functions}}$ inside it to do the computations. Check whether $Solve1$ and $Solve2$ are type-stable and compare the performance of the two implementations."
   ]
  },
  {
   "cell_type": "code",
   "execution_count": 1,
   "metadata": {},
   "outputs": [
    {
     "data": {
      "text/plain": [
       "fillValues (generic function with 1 method)"
      ]
     },
     "metadata": {},
     "output_type": "display_data"
    }
   ],
   "source": [
    "#### Helper Code #####\n",
    "using BenchmarkTools\n",
    "\n",
    "function genRandInt()\n",
    "\treturn rand(1:100)\n",
    "end\n",
    "\n",
    "function genRandFloat()\n",
    "\tnum = rand(Float64)*100.0\n",
    "\twhile num < 1\n",
    "\t\tnum = rand(Float64)*100.0\n",
    "\tend\n",
    "\treturn num\n",
    "end\n",
    "\n",
    "function fillValues(V::Vector{Any}, n::Int)\n",
    "\tfor i in 1:n\n",
    "\t\tchoice = rand(Bool)\n",
    "\t\tif choice\n",
    "\t\t\tV[i] = genRandInt()\n",
    "\t\telse\n",
    "\t\t\tV[i] = genRandFloat()\n",
    "\t\tend\n",
    "\tend\n",
    "end"
   ]
  },
  {
   "cell_type": "code",
   "execution_count": 2,
   "metadata": {
    "scrolled": true
   },
   "outputs": [],
   "source": [
    "V1 = Vector{Any}(undef,10000)\n",
    "V2 = Vector{Any}(undef,10000)\n",
    "# Populate these 2 vectors with random float and integer values (in the range 1-100) in a ratio close to 1:1. Try to \n",
    "# make the Vectors as randomised as possible.\n",
    "vsize = 10000\n",
    "fillValues(V1,vsize)\n",
    "fillValues(V2,vsize)"
   ]
  },
  {
   "cell_type": "code",
   "execution_count": 3,
   "metadata": {},
   "outputs": [
    {
     "data": {
      "text/plain": [
       "Solve1 (generic function with 1 method)"
      ]
     },
     "metadata": {},
     "output_type": "display_data"
    }
   ],
   "source": [
    "function Solve1(V1,V2)\n",
    "\tSum = 0.0\n",
    "\tfor i in 1:size(V1)[1]\n",
    "\t\t@inbounds x = V1[i]\n",
    "\t\t@inbounds y = V2[i]\n",
    "\t\tif x > y\n",
    "\t\t\tSum += 4x^4+9x^2+10x+1\n",
    "\t\telse\n",
    "\t\t\tSum += y^4+3y^2+9y+2\n",
    "\t\tend\n",
    "\tend\n",
    "\treturn Sum\n",
    "end"
   ]
  },
  {
   "cell_type": "code",
   "execution_count": 4,
   "metadata": {},
   "outputs": [
    {
     "data": {
      "text/plain": [
       "Solve2 (generic function with 1 method)"
      ]
     },
     "metadata": {},
     "output_type": "display_data"
    }
   ],
   "source": [
    "function f(x,y)  #### Type-Stable function for computation\n",
    "\ttx,ty= promote(x,y)\n",
    "\tif tx > ty\n",
    "\t\treturn 4tx^4+9tx^2+10tx+1\n",
    "\telse\n",
    "\t\treturn ty^4+3ty^2+9ty+2\n",
    "\tend\n",
    "end\n",
    "\n",
    "function Solve2(V1,V2)\n",
    "\tSum = 0.0\n",
    "\tfor i in 1:size(V1)[1]\n",
    "\t\t@inbounds x = V1[i]\n",
    "\t\t@inbounds y = V2[i]\n",
    "\t\tSum += f(x,y)\n",
    "\tend\n",
    "\treturn Sum\n",
    "end"
   ]
  },
  {
   "cell_type": "code",
   "execution_count": 5,
   "metadata": {},
   "outputs": [
    {
     "name": "stdout",
     "output_type": "stream",
     "text": [
      "Runtime for Solve1: \n"
     ]
    },
    {
     "name": "stdout",
     "output_type": "stream",
     "text": [
      "  5.033 ms (83197"
     ]
    },
    {
     "name": "stdout",
     "output_type": "stream",
     "text": [
      " allocations: 1.27 MiB)\n"
     ]
    },
    {
     "name": "stdout",
     "output_type": "stream",
     "text": [
      "8.440991239530161e11\n",
      "\n",
      "Runtime for Solve2: \n"
     ]
    },
    {
     "name": "stdout",
     "output_type": "stream",
     "text": [
      "  1.110 ms (19996 allocations: 312.44 KiB)\n",
      "8.440991239530161e11\n"
     ]
    }
   ],
   "source": [
    "println(\"Runtime for Solve1: \")\n",
    "println(@btime Solve1(V1,V2))\n",
    "println(\"\")\n",
    "println(\"Runtime for Solve2: \")\n",
    "println(@btime Solve2(V1,V2))"
   ]
  },
  {
   "cell_type": "code",
   "execution_count": 6,
   "metadata": {},
   "outputs": [],
   "source": [
    "####(1.) If f(x,y) was made to always return a Float64 Type, Good improvement.\n",
    "# function f(x,y)\n",
    "# \tif x > y\n",
    "# \t\treturn Float64(4x^4+9x^2+10x+1)\n",
    "# \telse\n",
    "# \t\treturn Float64(y^4+3y^2+9y+2)\n",
    "# \tend\n",
    "# end\n",
    "\n",
    "####(2.) If Solve2 was to be made type-stable using a helper function, Good improvement\n",
    "# function f(x,y)\n",
    "# \ttx,ty= promote(x,y)\n",
    "# \tif tx > ty\n",
    "# \t\treturn 4tx^4+9tx^2+10tx+1\n",
    "# \telse\n",
    "# \t\treturn ty^4+3ty^2+9ty+2\n",
    "# \tend\n",
    "# end\n",
    "\n",
    "# function convert(V)\n",
    "#     for i::Int64 in 1:size(V)[1]\n",
    "#             if typeof(V[i]) != Float64\n",
    "#                 V[i] = convert(Float64,V[i])\n",
    "#             end\n",
    "#         end\n",
    "#     return V\n",
    "# end\n",
    "\n",
    "####(3.) Since the values to be evaluated are single-variable functions, another way would be to define two new functions(one for x,one for y)\n",
    "# for each condition. Both of can be type-annotated for Int64, Float64 giving 4 functions in total.\n",
    "\n",
    "# function fX(x::Int64)\n",
    "#     return 4x^4+9x^2+10x+1\n",
    "# end\n",
    "# function fX(x::Float64)\n",
    "#     return 4x^4+9x^2+10x+1\n",
    "# end\n",
    "# function fY(y::Int64)\n",
    "#     return y^4+3y^2+9y+2\n",
    "# end\n",
    "# function fY(y::Float64)\n",
    "#     return y^4+3y^2+9y+2\n",
    "# end\n",
    "\n",
    "#Best Improvement\n",
    "\n"
   ]
  }
 ],
 "metadata": {
  "kernelspec": {
   "display_name": "Julia 1.7.3",
   "language": "julia",
   "name": "julia-1.7"
  },
  "language_info": {
   "file_extension": ".jl",
   "mimetype": "application/julia",
   "name": "julia",
   "version": "1.7.3"
  }
 },
 "nbformat": 4,
 "nbformat_minor": 4
}
