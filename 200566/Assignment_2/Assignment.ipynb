{
 "cells": [
  {
   "cell_type": "markdown",
   "metadata": {},
   "source": [
    "***\n",
    "$\\mathbf{\\text{Assignment}}$<br>\n",
    "***\n",
    "\n",
    "This assignment is based on the concept of Type Stable Functions in Julia. Your task is to create two different implementations of the function $\\mathbf{\\text{Solve(V1,V2)}}$ which takes as input two Vectors of the same size and computes the following sum $\\sum \\limits _{i=1} ^{N} f(V1[i], V2[i])$.<br> $f(x,y)$ is defined as $4x^4 + 9x^2 + 10x + 1$ if x>y and $y^4 + 3y^2 + 9y + 2$ otherwise. <br>\n",
    "For the first implementation create a function $Solve1(V1,V2)$ and do all the computations in that function itself. For the second implementation create a function $Solve2(V1,V2)$ which uses $\\mathbf{\\text{type stable functions}}$ inside it to do the computations. Check whether $Solve1$ and $Solve2$ are type-stable and compare the performance of the two implementations."
   ]
  },
  {
   "cell_type": "code",
   "execution_count": 1,
   "metadata": {},
   "outputs": [],
   "source": [
    "using BenchmarkTools"
   ]
  },
  {
   "cell_type": "code",
   "execution_count": 2,
   "metadata": {
    "scrolled": true
   },
   "outputs": [],
   "source": [
    "V1 = Vector{Any}(undef,10000)\n",
    "V2 = Vector{Any}(undef,10000)\n",
    "# Populate these 2 vectors with random float and integer values (in the range 1-100) in a ratio close to 1:1. Try to \n",
    "# make the Vectors as randomised as possible.\n",
    "for i in 1:10000\n",
    "    u = rand()\n",
    "    if u<0.5\n",
    "        V1[i] = rand(1:100)\n",
    "    else\n",
    "        V1[i] = 1 + 99 * rand()\n",
    "    end\n",
    "end\n",
    "    \n",
    "for j in 1:10000\n",
    "    v = rand()\n",
    "    if v<0.5\n",
    "        V2[j] = rand(1:100)\n",
    "    else\n",
    "        V2[j] = 1 + 99 * rand()\n",
    "    end\n",
    "end"
   ]
  },
  {
   "cell_type": "code",
   "execution_count": 3,
   "metadata": {},
   "outputs": [
    {
     "data": {
      "text/plain": [
       "Solve1 (generic function with 1 method)"
      ]
     },
     "execution_count": 3,
     "metadata": {},
     "output_type": "execute_result"
    }
   ],
   "source": [
    "function Solve1(V1,V2)\n",
    "    sum = 0\n",
    "    for k in 1:10000\n",
    "      if V1[k] > V2[k]\n",
    "        x = V1[k]\n",
    "        sum += 4*(x^4) + 9*(x^2) + 10*x + 1\n",
    "      else\n",
    "        y = V2[k]\n",
    "        sum += y^4 + 3*(y^2) + 9*y + 2\n",
    "      end\n",
    "    end\n",
    "    return sum\n",
    "end\n"
   ]
  },
  {
   "cell_type": "code",
   "execution_count": 4,
   "metadata": {},
   "outputs": [
    {
     "data": {
      "text/plain": [
       "Solve2 (generic function with 1 method)"
      ]
     },
     "execution_count": 4,
     "metadata": {},
     "output_type": "execute_result"
    }
   ],
   "source": [
    "function Solve2(V1,V2)\n",
    "    function fx(x::Int64)\n",
    "      sum = 4*(x^4) + 9*(x^2) + 10*x + 1\n",
    "      return sum\n",
    "    end\n",
    "    function fx(x::Float64)\n",
    "      sum = 4*(x^4) + 9*(x^2) + 10*x + 1\n",
    "      return sum\n",
    "    end\n",
    "    function fy(y::Int64)\n",
    "      sum = y^4 + 3*(y^2) + 9*y + 2\n",
    "      return sum\n",
    "    end\n",
    "    function fy(y::Float64)\n",
    "      sum = y^4 + 3*(y^2) + 9*y + 2\n",
    "      return sum\n",
    "    end\n",
    "\n",
    "\n",
    "    ans = 0\n",
    "    for i in 1:10000\n",
    "      if V1[i]>V2[i]\n",
    "        ans += fx(V1[i])\n",
    "      else \n",
    "        ans += fy(V2[i])\n",
    "      end\n",
    "    end\n",
    "\n",
    "    return ans\n",
    "end"
   ]
  },
  {
   "cell_type": "code",
   "execution_count": 5,
   "metadata": {},
   "outputs": [
    {
     "name": "stdout",
     "output_type": "stream",
     "text": [
      "  3.293 ms (83295 allocations: 1.27 MiB)\n",
      "  519.600 μs (1 allocation: 16 bytes)\n"
     ]
    },
    {
     "data": {
      "text/plain": [
       "8.438057005516687e11"
      ]
     },
     "execution_count": 5,
     "metadata": {},
     "output_type": "execute_result"
    }
   ],
   "source": [
    "@btime Solve1(V1,V2)\n",
    "@btime Solve2(V1,V2)"
   ]
  },
  {
   "cell_type": "code",
   "execution_count": 7,
   "metadata": {},
   "outputs": [
    {
     "name": "stdout",
     "output_type": "stream",
     "text": [
      "  503.400 μs (1 allocation: 16 bytes)\n",
      "  3.236 ms (83295 allocations: 1.27 MiB)\n"
     ]
    },
    {
     "data": {
      "text/plain": [
       "8.438057005516687e11"
      ]
     },
     "execution_count": 7,
     "metadata": {},
     "output_type": "execute_result"
    }
   ],
   "source": [
    "@btime Solve2(V1,V2)\n",
    "@btime Solve1(V1,V2)"
   ]
  }
 ],
 "metadata": {
  "kernelspec": {
   "display_name": "Julia 1.7.2",
   "language": "julia",
   "name": "julia-1.7"
  },
  "language_info": {
   "file_extension": ".jl",
   "mimetype": "application/julia",
   "name": "julia",
   "version": "1.7.2"
  }
 },
 "nbformat": 4,
 "nbformat_minor": 4
}
