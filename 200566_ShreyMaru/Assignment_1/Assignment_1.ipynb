{
  "nbformat": 4,
  "nbformat_minor": 0,
  "metadata": {
    "colab": {
      "name": "Copy of 6W6L_Assignment_1.ipynb",
      "provenance": [],
      "collapsed_sections": []
    },
    "kernelspec": {
      "name": "python3",
      "display_name": "Python 3"
    },
    "language_info": {
      "name": "python"
    }
  },
  "cells": [
    {
      "cell_type": "markdown",
      "source": [
        "## **IITK Member Information**\n",
        "\n",
        "The idea of this task is to build a information portal of all the members of IITK (mainly students and staff), which also helps in keeping a record of their ages and other stuff for the use of IITK authoririties. \n",
        "\n",
        "The code should be written with the use of OOPs. More details regarding python OOPs can be found [here](https://www.geeksforgeeks.org/python-oops-concepts/)"
      ],
      "metadata": {
        "id": "PVwCfPhf2VsG"
      }
    },
    {
      "cell_type": "markdown",
      "source": [
        "### **Member** ###\n",
        "\n",
        "One of the major features of OOPs being used here is **inheritance**. We have a parent class named Member which contains the data members common to all kind of members in IITK. You should make a parametrized **contructor** which creates a fresh entry by filling in the values of the respective variables and complete all the function as specified in this class."
      ],
      "metadata": {
        "id": "DqawrbyDgWcr"
      }
    },
    {
      "cell_type": "code",
      "execution_count": 12,
      "metadata": {
        "id": "36ujit6d2UoG"
      },
      "outputs": [],
      "source": [
        "list = []\n",
        "class Member:\n",
        "  # string name\n",
        "  # string username\n",
        "  # int id ## a unique id for every member\n",
        "  # string phone_number\n",
        "  # dob (you should decide how to implement dob) \n",
        "  # dob as a string\n",
        "\n",
        "  def __init__(self,ID, name, username, phone_number, dob):\n",
        "    ## This is the constructor being talked about in the description\n",
        "    self.ID = ID\n",
        "    self.name = name\n",
        "    self.username = username\n",
        "    self.phone_number = phone_number\n",
        "    self.dob = dob\n",
        "    list.append(Member(self.ID,self.name, self.username, self.phone_number, self.dob ))\n",
        "\n",
        "  def update_info_by_id(id, name, username, phone_number, dob):\n",
        "    ## This function should update the information of the person spcified by the received id\n",
        "    for obj in list:\n",
        "      if obj.ID == ID:\n",
        "        obj.name = name\n",
        "        obj.username = username\n",
        "        obj.phone_number = phone_number\n",
        "        obj.dob = dob\n",
        "\n",
        "  @staticmethod\n",
        "  def display_info_by_id(Id):\n",
        "    ## display member info who has the same id as received\n",
        "    for obj in list:\n",
        "      if obj.ID == Id:\n",
        "        print(obj.ID)\n",
        "        print(obj.name)\n",
        "        print(obj.username)\n",
        "        print(obj.phone_number)\n",
        "        print(obj.dob)\n",
        "\n",
        "\n",
        "  \n",
        "  def contact_details():\n",
        "    ## diplay contact details of the member \n",
        "    print(\"Contact : {}\".format(self.phone_number))\n",
        "\n",
        "  def display_age():\n",
        "    ## displays the age of the member\n",
        "    birthyear = self.dob[-4:]\n",
        "    print(2022 - birthyear)\n",
        "\n"
      ]
    },
    {
      "cell_type": "markdown",
      "source": [
        "Your program should be divided into two subclasses, professor and student, which are the child class of Member class (read about inheritance to understand the concept of parent and child classes in inheritance). \n",
        "\n",
        "The compulsary attendace rate is min 75% for stundets and 90% for professors. using this information you have to complete the *attendance_is_ok* function given below and also the other functions based on their description.\n",
        "\n",
        "You should also create a constrcutor for these classes also to initialize the data values of the objects of these classes. The outline of the constructor won't be given, you have to implement it on your own."
      ],
      "metadata": {
        "id": "n8Oj3aQI7Oah"
      }
    },
    {
      "cell_type": "code",
      "source": [
        "class Professor(Member):\n",
        "  # string field\n",
        "  # int attendance\n",
        "\n",
        "  def __init__(self,id, name, username, phone_number, dob, field, attendance):\n",
        "    self.field = field\n",
        "    self.attendance = attendance\n",
        "    Member.__init__(self,id, name, username, phone_number, dob)\n",
        "\n",
        "\n",
        "  def travel_ticket_discount(ticket_price):\n",
        "    ##age uptil 12 -> No money\n",
        "    ##between 13 to 25 -> half fare\n",
        "    ##above 26 -> Full money\n",
        "    a = self.dob\n",
        "    b = a[-4:]\n",
        "    age = 2022 - b\n",
        "    if age < 12 :\n",
        "      return 0\n",
        "    elif age < 26 :\n",
        "      return ticket_price * 0.5\n",
        "    else :\n",
        "      return ticket_price\n",
        "\n",
        "  def attendance_is_ok():\n",
        "    ## function to check if the member has complied with the attendance criteria\n",
        "    att = float(self.attendance)\n",
        "    per_att = att/(365.0)\n",
        "    if per_att < 0.90 :\n",
        "      return True\n",
        "    else :\n",
        "      return False\n",
        "\n",
        "    \n",
        "\n",
        "    "
      ],
      "metadata": {
        "id": "YQRuFEni8p3z"
      },
      "execution_count": 13,
      "outputs": []
    },
    {
      "cell_type": "code",
      "source": [
        "class Student(Member):\n",
        "  # string branch\n",
        "  # int attendance\n",
        "\n",
        "  def __init__(self,id, name, username, phone_number, dob, branch, attendance):\n",
        "    self.branch = branch\n",
        "    self.attendance = attendance\n",
        "    Member.__init__(self,id, name, username, phone_number, dob)\n",
        "\n",
        "  def travel_ticket_discount(ticket_price):\n",
        "    ##age uptil 12 -> No money\n",
        "    ##between 13 to 25 -> half fare\n",
        "    ##above 26 -> Full money\n",
        "    a = self.dob\n",
        "    b = a[-4:]\n",
        "    age = 2022 - b\n",
        "    if age < 12 :\n",
        "      return 0\n",
        "    elif age < 26 :\n",
        "      return ticket_price * 0.5\n",
        "    else :\n",
        "      return ticket_price\n",
        "\n",
        "  def attendance_is_ok():\n",
        "    ## function to check if the member has complied with the attendance criteria\n",
        "    att = float(self.attendance)\n",
        "    per_att = att/(365.0)\n",
        "    if per_att < 0.75 :\n",
        "      return True\n",
        "    else :\n",
        "      return False"
      ],
      "metadata": {
        "id": "zKHZFHJ1nmqr"
      },
      "execution_count": 15,
      "outputs": []
    },
    {
      "cell_type": "markdown",
      "source": [
        "You have to implement a main class and call these functions from it via objects to achieve the desired tasks. You can also change the provided outline to some extend, provided that there is no loss of information."
      ],
      "metadata": {
        "id": "7Lb4cfjan6FI"
      }
    }
  ]
}